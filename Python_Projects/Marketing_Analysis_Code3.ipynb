{
 "cells": [
  {
   "cell_type": "code",
   "execution_count": 2,
   "id": "702b0359",
   "metadata": {},
   "outputs": [],
   "source": [
    "import numpy as np\n",
    "import pandas as pd"
   ]
  },
  {
   "cell_type": "code",
   "execution_count": 3,
   "id": "7cce66f3",
   "metadata": {},
   "outputs": [],
   "source": [
    "code3interview_df = pd.read_excel('PA_Team_Interview_Dataset_14374203.xlsx')"
   ]
  },
  {
   "cell_type": "code",
   "execution_count": 4,
   "id": "9d0b987b",
   "metadata": {},
   "outputs": [
    {
     "data": {
      "text/html": [
       "<div>\n",
       "<style scoped>\n",
       "    .dataframe tbody tr th:only-of-type {\n",
       "        vertical-align: middle;\n",
       "    }\n",
       "\n",
       "    .dataframe tbody tr th {\n",
       "        vertical-align: top;\n",
       "    }\n",
       "\n",
       "    .dataframe thead th {\n",
       "        text-align: right;\n",
       "    }\n",
       "</style>\n",
       "<table border=\"1\" class=\"dataframe\">\n",
       "  <thead>\n",
       "    <tr style=\"text-align: right;\">\n",
       "      <th></th>\n",
       "      <th>campaign_name</th>\n",
       "      <th>creative_name</th>\n",
       "      <th>month</th>\n",
       "      <th>spend</th>\n",
       "      <th>impressions</th>\n",
       "      <th>clicks</th>\n",
       "      <th>conversions</th>\n",
       "    </tr>\n",
       "  </thead>\n",
       "  <tbody>\n",
       "    <tr>\n",
       "      <th>0</th>\n",
       "      <td>sc-BBY-Nashville-branding</td>\n",
       "      <td>white</td>\n",
       "      <td>11</td>\n",
       "      <td>659.608460</td>\n",
       "      <td>178191.000000</td>\n",
       "      <td>132</td>\n",
       "      <td>13</td>\n",
       "    </tr>\n",
       "    <tr>\n",
       "      <th>1</th>\n",
       "      <td>sc-VISA-Portland-conversions</td>\n",
       "      <td>Orange</td>\n",
       "      <td>5</td>\n",
       "      <td>890.329437</td>\n",
       "      <td>210176.000000</td>\n",
       "      <td>176</td>\n",
       "      <td>197</td>\n",
       "    </tr>\n",
       "    <tr>\n",
       "      <th>2</th>\n",
       "      <td>sc-GAP-Portland-fanacquisition</td>\n",
       "      <td>white</td>\n",
       "      <td>8</td>\n",
       "      <td>40.911196</td>\n",
       "      <td>8039.000000</td>\n",
       "      <td>9</td>\n",
       "      <td>1</td>\n",
       "    </tr>\n",
       "    <tr>\n",
       "      <th>3</th>\n",
       "      <td>sc-VISA-pivot-conversions</td>\n",
       "      <td>orange</td>\n",
       "      <td>6</td>\n",
       "      <td>865.598938</td>\n",
       "      <td>176743.478261</td>\n",
       "      <td>174</td>\n",
       "      <td>197</td>\n",
       "    </tr>\n",
       "    <tr>\n",
       "      <th>4</th>\n",
       "      <td>sc-VISA-pivot-conversions</td>\n",
       "      <td>white**new</td>\n",
       "      <td>1</td>\n",
       "      <td>482.800695</td>\n",
       "      <td>103054.000000</td>\n",
       "      <td>98</td>\n",
       "      <td>70</td>\n",
       "    </tr>\n",
       "    <tr>\n",
       "      <th>...</th>\n",
       "      <td>...</td>\n",
       "      <td>...</td>\n",
       "      <td>...</td>\n",
       "      <td>...</td>\n",
       "      <td>...</td>\n",
       "      <td>...</td>\n",
       "      <td>...</td>\n",
       "    </tr>\n",
       "    <tr>\n",
       "      <th>174221</th>\n",
       "      <td>sc-VISA-in-conversions</td>\n",
       "      <td>white</td>\n",
       "      <td>5</td>\n",
       "      <td>228.016560</td>\n",
       "      <td>56515.000000</td>\n",
       "      <td>47</td>\n",
       "      <td>42</td>\n",
       "    </tr>\n",
       "    <tr>\n",
       "      <th>174222</th>\n",
       "      <td>sc-VISA-in-conversions</td>\n",
       "      <td>white</td>\n",
       "      <td>11</td>\n",
       "      <td>512.834850</td>\n",
       "      <td>111495.000000</td>\n",
       "      <td>103</td>\n",
       "      <td>71</td>\n",
       "    </tr>\n",
       "    <tr>\n",
       "      <th>174223</th>\n",
       "      <td>sc-BBY-NOLA-branding</td>\n",
       "      <td>orange</td>\n",
       "      <td>6</td>\n",
       "      <td>174.706085</td>\n",
       "      <td>35479.130435</td>\n",
       "      <td>33</td>\n",
       "      <td>21</td>\n",
       "    </tr>\n",
       "    <tr>\n",
       "      <th>174224</th>\n",
       "      <td>sc-VISA-Office-conversions</td>\n",
       "      <td>white</td>\n",
       "      <td>7</td>\n",
       "      <td>649.526350</td>\n",
       "      <td>166529.000000</td>\n",
       "      <td>130</td>\n",
       "      <td>83</td>\n",
       "    </tr>\n",
       "    <tr>\n",
       "      <th>174225</th>\n",
       "      <td>sc-VISA-SF-conversions</td>\n",
       "      <td>orange</td>\n",
       "      <td>12</td>\n",
       "      <td>312.639578</td>\n",
       "      <td>58694.782609</td>\n",
       "      <td>61</td>\n",
       "      <td>94</td>\n",
       "    </tr>\n",
       "  </tbody>\n",
       "</table>\n",
       "<p>174226 rows × 7 columns</p>\n",
       "</div>"
      ],
      "text/plain": [
       "                         campaign_name creative_name  month       spend  \\\n",
       "0            sc-BBY-Nashville-branding         white     11  659.608460   \n",
       "1         sc-VISA-Portland-conversions        Orange      5  890.329437   \n",
       "2       sc-GAP-Portland-fanacquisition         white      8   40.911196   \n",
       "3            sc-VISA-pivot-conversions        orange      6  865.598938   \n",
       "4            sc-VISA-pivot-conversions    white**new      1  482.800695   \n",
       "...                                ...           ...    ...         ...   \n",
       "174221          sc-VISA-in-conversions         white      5  228.016560   \n",
       "174222          sc-VISA-in-conversions         white     11  512.834850   \n",
       "174223            sc-BBY-NOLA-branding        orange      6  174.706085   \n",
       "174224      sc-VISA-Office-conversions         white      7  649.526350   \n",
       "174225          sc-VISA-SF-conversions        orange     12  312.639578   \n",
       "\n",
       "          impressions  clicks  conversions  \n",
       "0       178191.000000     132           13  \n",
       "1       210176.000000     176          197  \n",
       "2         8039.000000       9            1  \n",
       "3       176743.478261     174          197  \n",
       "4       103054.000000      98           70  \n",
       "...               ...     ...          ...  \n",
       "174221   56515.000000      47           42  \n",
       "174222  111495.000000     103           71  \n",
       "174223   35479.130435      33           21  \n",
       "174224  166529.000000     130           83  \n",
       "174225   58694.782609      61           94  \n",
       "\n",
       "[174226 rows x 7 columns]"
      ]
     },
     "execution_count": 4,
     "metadata": {},
     "output_type": "execute_result"
    }
   ],
   "source": [
    "code3interview_df"
   ]
  },
  {
   "cell_type": "code",
   "execution_count": 5,
   "id": "de23eb83",
   "metadata": {},
   "outputs": [
    {
     "data": {
      "text/plain": [
       "orange         57569\n",
       "white          57456\n",
       "White          16998\n",
       "Orange         16683\n",
       "orange**new     8812\n",
       "white**new      8794\n",
       "black           2783\n",
       "teal            2657\n",
       "Black            811\n",
       "Teal             807\n",
       "teal**new        441\n",
       "black**new       407\n",
       "grey               6\n",
       "grey**new          2\n",
       "Name: creative_name, dtype: int64"
      ]
     },
     "execution_count": 5,
     "metadata": {},
     "output_type": "execute_result"
    }
   ],
   "source": [
    "#How many versions of creative were run?\n",
    "code3interview_df['creative_name'].value_counts()"
   ]
  },
  {
   "cell_type": "code",
   "execution_count": null,
   "id": "3242f618",
   "metadata": {},
   "outputs": [],
   "source": [
    "#Did the newer version of creative have any effect? If so, how much?\n",
    "#Also had to combine the upper case and lower case creatives of the same color together"
   ]
  },
  {
   "cell_type": "code",
   "execution_count": 6,
   "id": "c7a01d0b",
   "metadata": {},
   "outputs": [],
   "source": [
    "white1_df = code3interview_df[code3interview_df.creative_name == 'white']"
   ]
  },
  {
   "cell_type": "code",
   "execution_count": 7,
   "id": "c44e9076",
   "metadata": {},
   "outputs": [],
   "source": [
    "white2_df = code3interview_df[code3interview_df.creative_name == 'White']"
   ]
  },
  {
   "cell_type": "code",
   "execution_count": 8,
   "id": "d3ee9837",
   "metadata": {},
   "outputs": [],
   "source": [
    "white_df = pd.concat([white1_df, white2_df], axis=0)"
   ]
  },
  {
   "cell_type": "code",
   "execution_count": 9,
   "id": "e9916450",
   "metadata": {},
   "outputs": [
    {
     "data": {
      "text/html": [
       "<div>\n",
       "<style scoped>\n",
       "    .dataframe tbody tr th:only-of-type {\n",
       "        vertical-align: middle;\n",
       "    }\n",
       "\n",
       "    .dataframe tbody tr th {\n",
       "        vertical-align: top;\n",
       "    }\n",
       "\n",
       "    .dataframe thead th {\n",
       "        text-align: right;\n",
       "    }\n",
       "</style>\n",
       "<table border=\"1\" class=\"dataframe\">\n",
       "  <thead>\n",
       "    <tr style=\"text-align: right;\">\n",
       "      <th></th>\n",
       "      <th>campaign_name</th>\n",
       "      <th>creative_name</th>\n",
       "      <th>month</th>\n",
       "      <th>spend</th>\n",
       "      <th>impressions</th>\n",
       "      <th>clicks</th>\n",
       "      <th>conversions</th>\n",
       "    </tr>\n",
       "  </thead>\n",
       "  <tbody>\n",
       "    <tr>\n",
       "      <th>0</th>\n",
       "      <td>sc-BBY-Nashville-branding</td>\n",
       "      <td>white</td>\n",
       "      <td>11</td>\n",
       "      <td>659.608460</td>\n",
       "      <td>178191.000000</td>\n",
       "      <td>132</td>\n",
       "      <td>13</td>\n",
       "    </tr>\n",
       "    <tr>\n",
       "      <th>2</th>\n",
       "      <td>sc-GAP-Portland-fanacquisition</td>\n",
       "      <td>white</td>\n",
       "      <td>8</td>\n",
       "      <td>40.911196</td>\n",
       "      <td>8039.000000</td>\n",
       "      <td>9</td>\n",
       "      <td>1</td>\n",
       "    </tr>\n",
       "    <tr>\n",
       "      <th>6</th>\n",
       "      <td>sc-BBY-SF-branding</td>\n",
       "      <td>white</td>\n",
       "      <td>6</td>\n",
       "      <td>319.110352</td>\n",
       "      <td>71303.478261</td>\n",
       "      <td>64</td>\n",
       "      <td>12</td>\n",
       "    </tr>\n",
       "    <tr>\n",
       "      <th>7</th>\n",
       "      <td>sc_BBY_Austin_branding</td>\n",
       "      <td>white</td>\n",
       "      <td>9</td>\n",
       "      <td>517.588095</td>\n",
       "      <td>104681.739130</td>\n",
       "      <td>103</td>\n",
       "      <td>18</td>\n",
       "    </tr>\n",
       "    <tr>\n",
       "      <th>15</th>\n",
       "      <td>sc_VISA_your_conversions</td>\n",
       "      <td>white</td>\n",
       "      <td>11</td>\n",
       "      <td>699.265928</td>\n",
       "      <td>155505.000000</td>\n",
       "      <td>139</td>\n",
       "      <td>94</td>\n",
       "    </tr>\n",
       "    <tr>\n",
       "      <th>...</th>\n",
       "      <td>...</td>\n",
       "      <td>...</td>\n",
       "      <td>...</td>\n",
       "      <td>...</td>\n",
       "      <td>...</td>\n",
       "      <td>...</td>\n",
       "      <td>...</td>\n",
       "    </tr>\n",
       "    <tr>\n",
       "      <th>174178</th>\n",
       "      <td>sc_GAP_sleep_fanacquisition</td>\n",
       "      <td>White</td>\n",
       "      <td>7</td>\n",
       "      <td>196.250744</td>\n",
       "      <td>43536.000000</td>\n",
       "      <td>40</td>\n",
       "      <td>10</td>\n",
       "    </tr>\n",
       "    <tr>\n",
       "      <th>174185</th>\n",
       "      <td>sc-VISA-NOLA-conversions</td>\n",
       "      <td>White</td>\n",
       "      <td>8</td>\n",
       "      <td>339.842441</td>\n",
       "      <td>85659.000000</td>\n",
       "      <td>69</td>\n",
       "      <td>61</td>\n",
       "    </tr>\n",
       "    <tr>\n",
       "      <th>174191</th>\n",
       "      <td>sc-VISA-NOLA--conversions</td>\n",
       "      <td>White</td>\n",
       "      <td>5</td>\n",
       "      <td>344.567942</td>\n",
       "      <td>95429.000000</td>\n",
       "      <td>69</td>\n",
       "      <td>52</td>\n",
       "    </tr>\n",
       "    <tr>\n",
       "      <th>174194</th>\n",
       "      <td>sc-VISA-Office-conversions</td>\n",
       "      <td>White</td>\n",
       "      <td>12</td>\n",
       "      <td>369.154883</td>\n",
       "      <td>69778.260870</td>\n",
       "      <td>73</td>\n",
       "      <td>60</td>\n",
       "    </tr>\n",
       "    <tr>\n",
       "      <th>174208</th>\n",
       "      <td>sc_VISA_NOLA_conversions</td>\n",
       "      <td>White</td>\n",
       "      <td>12</td>\n",
       "      <td>682.263490</td>\n",
       "      <td>135676.521739</td>\n",
       "      <td>135</td>\n",
       "      <td>92</td>\n",
       "    </tr>\n",
       "  </tbody>\n",
       "</table>\n",
       "<p>74454 rows × 7 columns</p>\n",
       "</div>"
      ],
      "text/plain": [
       "                         campaign_name creative_name  month       spend  \\\n",
       "0            sc-BBY-Nashville-branding         white     11  659.608460   \n",
       "2       sc-GAP-Portland-fanacquisition         white      8   40.911196   \n",
       "6                   sc-BBY-SF-branding         white      6  319.110352   \n",
       "7               sc_BBY_Austin_branding         white      9  517.588095   \n",
       "15            sc_VISA_your_conversions         white     11  699.265928   \n",
       "...                                ...           ...    ...         ...   \n",
       "174178     sc_GAP_sleep_fanacquisition         White      7  196.250744   \n",
       "174185        sc-VISA-NOLA-conversions         White      8  339.842441   \n",
       "174191       sc-VISA-NOLA--conversions         White      5  344.567942   \n",
       "174194      sc-VISA-Office-conversions         White     12  369.154883   \n",
       "174208        sc_VISA_NOLA_conversions         White     12  682.263490   \n",
       "\n",
       "          impressions  clicks  conversions  \n",
       "0       178191.000000     132           13  \n",
       "2         8039.000000       9            1  \n",
       "6        71303.478261      64           12  \n",
       "7       104681.739130     103           18  \n",
       "15      155505.000000     139           94  \n",
       "...               ...     ...          ...  \n",
       "174178   43536.000000      40           10  \n",
       "174185   85659.000000      69           61  \n",
       "174191   95429.000000      69           52  \n",
       "174194   69778.260870      73           60  \n",
       "174208  135676.521739     135           92  \n",
       "\n",
       "[74454 rows x 7 columns]"
      ]
     },
     "execution_count": 9,
     "metadata": {},
     "output_type": "execute_result"
    }
   ],
   "source": [
    "white_df[white_df.campaign_name]"
   ]
  },
  {
   "cell_type": "code",
   "execution_count": 11,
   "id": "44c8288d",
   "metadata": {},
   "outputs": [],
   "source": [
    "whitenew_df = code3interview_df[code3interview_df.creative_name == 'white**new']"
   ]
  },
  {
   "cell_type": "code",
   "execution_count": 12,
   "id": "8008acb9",
   "metadata": {},
   "outputs": [
    {
     "data": {
      "text/plain": [
       "month               6.496387\n",
       "spend             466.466700\n",
       "impressions    103435.715121\n",
       "clicks             92.794961\n",
       "conversions        33.015352\n",
       "dtype: float64"
      ]
     },
     "execution_count": 12,
     "metadata": {},
     "output_type": "execute_result"
    }
   ],
   "source": [
    "white_df.mean()"
   ]
  },
  {
   "cell_type": "code",
   "execution_count": 13,
   "id": "a3b87852",
   "metadata": {},
   "outputs": [
    {
     "data": {
      "text/plain": [
       "month               6.503525\n",
       "spend             470.252132\n",
       "impressions    104264.395021\n",
       "clicks             93.545940\n",
       "conversions        32.774733\n",
       "dtype: float64"
      ]
     },
     "execution_count": 13,
     "metadata": {},
     "output_type": "execute_result"
    }
   ],
   "source": [
    "whitenew_df.mean()"
   ]
  },
  {
   "cell_type": "code",
   "execution_count": 14,
   "id": "46e2e7d3",
   "metadata": {},
   "outputs": [],
   "source": [
    "orange1_df = code3interview_df[code3interview_df.creative_name == 'orange']\n",
    "orange2_df = code3interview_df[code3interview_df.creative_name == 'Orange']\n",
    "black1_df = code3interview_df[code3interview_df.creative_name == 'black']\n",
    "black2_df = code3interview_df[code3interview_df.creative_name == 'Black']\n",
    "teal1_df = code3interview_df[code3interview_df.creative_name == 'teal']\n",
    "teal2_df = code3interview_df[code3interview_df.creative_name == 'Teal']"
   ]
  },
  {
   "cell_type": "code",
   "execution_count": 15,
   "id": "acd0e1f7",
   "metadata": {},
   "outputs": [],
   "source": [
    "orange_df = pd.concat([orange1_df, orange2_df], axis=0)\n",
    "black_df = pd.concat([black1_df, black2_df], axis=0)\n",
    "teal_df = pd.concat([teal1_df, teal2_df], axis=0)"
   ]
  },
  {
   "cell_type": "code",
   "execution_count": 16,
   "id": "dabedc99",
   "metadata": {},
   "outputs": [],
   "source": [
    "blacknew_df = code3interview_df[code3interview_df.creative_name == 'black**new']\n",
    "orangenew_df = code3interview_df[code3interview_df.creative_name == 'orange**new']\n",
    "tealnew_df = code3interview_df[code3interview_df.creative_name == 'teal**new']\n",
    "grey_df = code3interview_df[code3interview_df.creative_name == 'grey']\n",
    "greynew_df = code3interview_df[code3interview_df.creative_name == 'grey**new']"
   ]
  },
  {
   "cell_type": "code",
   "execution_count": 17,
   "id": "9d91d936",
   "metadata": {},
   "outputs": [
    {
     "data": {
      "text/plain": [
       "campaign_name    sc-VISA-pivot-conversionssc_BBY_in_brandingsc-...\n",
       "creative_name    orangeorangeorangeorangeorangeorangeorangeoran...\n",
       "month                                                       484025\n",
       "spend                                              34765000.118207\n",
       "impressions                                      7713658568.795512\n",
       "clicks                                                     6916104\n",
       "conversions                                                4541197\n",
       "dtype: object"
      ]
     },
     "execution_count": 17,
     "metadata": {},
     "output_type": "execute_result"
    }
   ],
   "source": [
    "orange_df.sum()"
   ]
  },
  {
   "cell_type": "code",
   "execution_count": 18,
   "id": "82373a5c",
   "metadata": {},
   "outputs": [
    {
     "data": {
      "text/plain": [
       "month               6.518680\n",
       "spend             468.202878\n",
       "impressions    103884.859247\n",
       "clicks             93.143673\n",
       "conversions        61.159255\n",
       "dtype: float64"
      ]
     },
     "execution_count": 18,
     "metadata": {},
     "output_type": "execute_result"
    }
   ],
   "source": [
    "orange_df.mean()"
   ]
  },
  {
   "cell_type": "code",
   "execution_count": 19,
   "id": "c3de5ae0",
   "metadata": {},
   "outputs": [
    {
     "data": {
      "text/plain": [
       "month               6.481162\n",
       "spend             471.122341\n",
       "impressions    104497.952328\n",
       "clicks             93.724694\n",
       "conversions        60.937585\n",
       "dtype: float64"
      ]
     },
     "execution_count": 19,
     "metadata": {},
     "output_type": "execute_result"
    }
   ],
   "source": [
    "orangenew_df.mean()"
   ]
  },
  {
   "cell_type": "code",
   "execution_count": 20,
   "id": "3b533be7",
   "metadata": {},
   "outputs": [
    {
     "data": {
      "text/plain": [
       "month               6.540902\n",
       "spend             467.019423\n",
       "impressions    103762.962994\n",
       "clicks             92.890095\n",
       "conversions        93.938509\n",
       "dtype: float64"
      ]
     },
     "execution_count": 20,
     "metadata": {},
     "output_type": "execute_result"
    }
   ],
   "source": [
    "black_df.mean()"
   ]
  },
  {
   "cell_type": "code",
   "execution_count": 21,
   "id": "2fd2a83a",
   "metadata": {},
   "outputs": [
    {
     "data": {
      "text/plain": [
       "month               6.621622\n",
       "spend             457.263727\n",
       "impressions    101451.064523\n",
       "clicks             90.852580\n",
       "conversions        94.371007\n",
       "dtype: float64"
      ]
     },
     "execution_count": 21,
     "metadata": {},
     "output_type": "execute_result"
    }
   ],
   "source": [
    "blacknew_df.mean()"
   ]
  },
  {
   "cell_type": "code",
   "execution_count": 22,
   "id": "6d805a47",
   "metadata": {},
   "outputs": [
    {
     "data": {
      "text/plain": [
       "month               6.594111\n",
       "spend             473.227512\n",
       "impressions    105067.252862\n",
       "clicks             94.143764\n",
       "conversions        11.554561\n",
       "dtype: float64"
      ]
     },
     "execution_count": 22,
     "metadata": {},
     "output_type": "execute_result"
    }
   ],
   "source": [
    "teal_df.mean()"
   ]
  },
  {
   "cell_type": "code",
   "execution_count": 23,
   "id": "74a5e8a7",
   "metadata": {},
   "outputs": [
    {
     "data": {
      "text/plain": [
       "month               6.319728\n",
       "spend             482.293565\n",
       "impressions    106254.000000\n",
       "clicks             96.011338\n",
       "conversions        11.226757\n",
       "dtype: float64"
      ]
     },
     "execution_count": 23,
     "metadata": {},
     "output_type": "execute_result"
    }
   ],
   "source": [
    "tealnew_df.mean()"
   ]
  },
  {
   "cell_type": "code",
   "execution_count": 24,
   "id": "91926bdd",
   "metadata": {},
   "outputs": [
    {
     "data": {
      "text/plain": [
       "month               8.333333\n",
       "spend             506.359133\n",
       "impressions    112322.028986\n",
       "clicks            100.500000\n",
       "conversions       124.500000\n",
       "dtype: float64"
      ]
     },
     "execution_count": 24,
     "metadata": {},
     "output_type": "execute_result"
    }
   ],
   "source": [
    "grey_df.mean()"
   ]
  },
  {
   "cell_type": "code",
   "execution_count": 25,
   "id": "d706e12d",
   "metadata": {},
   "outputs": [
    {
     "data": {
      "text/plain": [
       "month               3.000000\n",
       "spend             544.767739\n",
       "impressions    124055.000000\n",
       "clicks            108.500000\n",
       "conversions        77.000000\n",
       "dtype: float64"
      ]
     },
     "execution_count": 25,
     "metadata": {},
     "output_type": "execute_result"
    }
   ],
   "source": [
    "greynew_df.mean()"
   ]
  },
  {
   "cell_type": "code",
   "execution_count": 65,
   "id": "0a7a2139",
   "metadata": {},
   "outputs": [],
   "source": [
    "#Cost per acquisition (CPA) is calculated by dividing the total cost of conversions by the total number of conversions.\n",
    "#CPM = 1000 * cost / impressions\n",
    "#CVR = (number of conversions / clicks) x 100"
   ]
  },
  {
   "cell_type": "code",
   "execution_count": null,
   "id": "ca2cc67d",
   "metadata": {},
   "outputs": [],
   "source": [
    "#Show the CPA and CVR for each campaign type that was run.\n",
    "#Which campaign type was more efficient at driving conversions? By how much?"
   ]
  },
  {
   "cell_type": "code",
   "execution_count": 41,
   "id": "8a1306e4",
   "metadata": {},
   "outputs": [
    {
     "data": {
      "text/plain": [
       "14.128781760854295"
      ]
     },
     "execution_count": 41,
     "metadata": {},
     "output_type": "execute_result"
    }
   ],
   "source": [
    "whitecpa = white_df.spend.sum() / white_df.conversions.sum() #$14.13\n",
    "whitecpa"
   ]
  },
  {
   "cell_type": "code",
   "execution_count": 63,
   "id": "6e0d4b6a",
   "metadata": {},
   "outputs": [
    {
     "data": {
      "text/plain": [
       "35.57881972326933"
      ]
     },
     "execution_count": 63,
     "metadata": {},
     "output_type": "execute_result"
    }
   ],
   "source": [
    "whitecvr = (white_df.conversions.sum() / white_df.clicks.sum()) * 100\n",
    "whitecvr #35.58%"
   ]
  },
  {
   "cell_type": "code",
   "execution_count": 33,
   "id": "02139e7a",
   "metadata": {},
   "outputs": [
    {
     "data": {
      "text/plain": [
       "14.348008133498984"
      ]
     },
     "execution_count": 33,
     "metadata": {},
     "output_type": "execute_result"
    }
   ],
   "source": [
    "whitenewcpa = whitenew_df.spend.sum() / whitenew_df.conversions.sum() #$14.35\n",
    "whitenewcpa"
   ]
  },
  {
   "cell_type": "code",
   "execution_count": 64,
   "id": "9be0b925",
   "metadata": {},
   "outputs": [
    {
     "data": {
      "text/plain": [
       "35.03597550820952"
      ]
     },
     "execution_count": 64,
     "metadata": {},
     "output_type": "execute_result"
    }
   ],
   "source": [
    "whitenewcvr = (whitenew_df.conversions.sum() / whitenew_df.clicks.sum()) * 100\n",
    "whitenewcvr #35.04%"
   ]
  },
  {
   "cell_type": "code",
   "execution_count": 43,
   "id": "6aa71c3e",
   "metadata": {},
   "outputs": [
    {
     "data": {
      "text/plain": [
       "4.971543938875111"
      ]
     },
     "execution_count": 43,
     "metadata": {},
     "output_type": "execute_result"
    }
   ],
   "source": [
    "blackcpa = black_df.spend.sum() / black_df.conversions.sum() #$4.97\n",
    "blackcpa"
   ]
  },
  {
   "cell_type": "code",
   "execution_count": 44,
   "id": "8e65090e",
   "metadata": {},
   "outputs": [
    {
     "data": {
      "text/plain": [
       "4.8453835550813125"
      ]
     },
     "execution_count": 44,
     "metadata": {},
     "output_type": "execute_result"
    }
   ],
   "source": [
    "blacknewcpa = blacknew_df.spend.sum() / blacknew_df.conversions.sum() #$4.97\n",
    "blacknewcpa"
   ]
  },
  {
   "cell_type": "code",
   "execution_count": 66,
   "id": "e7ebe3b0",
   "metadata": {},
   "outputs": [
    {
     "data": {
      "text/plain": [
       "101.1286607338092"
      ]
     },
     "execution_count": 66,
     "metadata": {},
     "output_type": "execute_result"
    }
   ],
   "source": [
    "blackcvr = (black_df.conversions.sum() / black_df.clicks.sum()) * 100\n",
    "blackcvr #101.13%"
   ]
  },
  {
   "cell_type": "code",
   "execution_count": 67,
   "id": "951b977b",
   "metadata": {},
   "outputs": [
    {
     "data": {
      "text/plain": [
       "103.87267761040646"
      ]
     },
     "execution_count": 67,
     "metadata": {},
     "output_type": "execute_result"
    }
   ],
   "source": [
    "blacknewcvr = (blacknew_df.conversions.sum() / blacknew_df.clicks.sum()) * 100\n",
    "blacknewcvr #103.87%"
   ]
  },
  {
   "cell_type": "code",
   "execution_count": 47,
   "id": "84286ecb",
   "metadata": {},
   "outputs": [
    {
     "data": {
      "text/plain": [
       "7.655470599096858"
      ]
     },
     "execution_count": 47,
     "metadata": {},
     "output_type": "execute_result"
    }
   ],
   "source": [
    "orangecpa = orange_df.spend.sum() / orange_df.conversions.sum() #$7.66\n",
    "orangecpa"
   ]
  },
  {
   "cell_type": "code",
   "execution_count": 48,
   "id": "20c00bae",
   "metadata": {},
   "outputs": [
    {
     "data": {
      "text/plain": [
       "7.731227622885533"
      ]
     },
     "execution_count": 48,
     "metadata": {},
     "output_type": "execute_result"
    }
   ],
   "source": [
    "orangenewcpa = orangenew_df.spend.sum() / orangenew_df.conversions.sum() #$7.73\n",
    "orangenewcpa"
   ]
  },
  {
   "cell_type": "code",
   "execution_count": 68,
   "id": "50cdeb5d",
   "metadata": {},
   "outputs": [
    {
     "data": {
      "text/plain": [
       "65.66120174017048"
      ]
     },
     "execution_count": 68,
     "metadata": {},
     "output_type": "execute_result"
    }
   ],
   "source": [
    "orangecvr = (orange_df.conversions.sum() / orange_df.clicks.sum()) * 100\n",
    "orangecvr #65.66%"
   ]
  },
  {
   "cell_type": "code",
   "execution_count": 69,
   "id": "39324539",
   "metadata": {},
   "outputs": [
    {
     "data": {
      "text/plain": [
       "65.01764131821936"
      ]
     },
     "execution_count": 69,
     "metadata": {},
     "output_type": "execute_result"
    }
   ],
   "source": [
    "orangenewcvr = (orangenew_df.conversions.sum() / orangenew_df.clicks.sum()) * 100\n",
    "orangenewcvr #65.02%"
   ]
  },
  {
   "cell_type": "code",
   "execution_count": 54,
   "id": "d0ca5c98",
   "metadata": {},
   "outputs": [
    {
     "data": {
      "text/plain": [
       "40.95590512975141"
      ]
     },
     "execution_count": 54,
     "metadata": {},
     "output_type": "execute_result"
    }
   ],
   "source": [
    "tealcpa = teal_df.spend.sum() / teal_df.conversions.sum() #$40.96\n",
    "tealcpa"
   ]
  },
  {
   "cell_type": "code",
   "execution_count": 56,
   "id": "1726503d",
   "metadata": {},
   "outputs": [
    {
     "data": {
      "text/plain": [
       "42.95929354726566"
      ]
     },
     "execution_count": 56,
     "metadata": {},
     "output_type": "execute_result"
    }
   ],
   "source": [
    "tealnewcpa = tealnew_df.spend.sum() / tealnew_df.conversions.sum() #$42.96\n",
    "tealnewcpa"
   ]
  },
  {
   "cell_type": "code",
   "execution_count": 70,
   "id": "83ae2b32",
   "metadata": {},
   "outputs": [
    {
     "data": {
      "text/plain": [
       "12.273315466370656"
      ]
     },
     "execution_count": 70,
     "metadata": {},
     "output_type": "execute_result"
    }
   ],
   "source": [
    "tealcvr = (teal_df.conversions.sum() / teal_df.clicks.sum()) * 100\n",
    "tealcvr #12.27%"
   ]
  },
  {
   "cell_type": "code",
   "execution_count": 71,
   "id": "5ec771d9",
   "metadata": {},
   "outputs": [
    {
     "data": {
      "text/plain": [
       "11.693157932028058"
      ]
     },
     "execution_count": 71,
     "metadata": {},
     "output_type": "execute_result"
    }
   ],
   "source": [
    "tealnewcvr = (tealnew_df.conversions.sum() / tealnew_df.clicks.sum()) * 100\n",
    "tealnewcvr #11.69%"
   ]
  },
  {
   "cell_type": "code",
   "execution_count": 59,
   "id": "84d7d287",
   "metadata": {},
   "outputs": [
    {
     "data": {
      "text/plain": [
       "4.067141630721788"
      ]
     },
     "execution_count": 59,
     "metadata": {},
     "output_type": "execute_result"
    }
   ],
   "source": [
    "greycpa = grey_df.spend.sum() / grey_df.conversions.sum() #$4.07\n",
    "greycpa"
   ]
  },
  {
   "cell_type": "code",
   "execution_count": 60,
   "id": "b9ceb7ac",
   "metadata": {},
   "outputs": [
    {
     "data": {
      "text/plain": [
       "7.074905700245659"
      ]
     },
     "execution_count": 60,
     "metadata": {},
     "output_type": "execute_result"
    }
   ],
   "source": [
    "greynewcpa = greynew_df.spend.sum() / greynew_df.conversions.sum() #$7.07\n",
    "greynewcpa"
   ]
  },
  {
   "cell_type": "code",
   "execution_count": 72,
   "id": "f15dcc36",
   "metadata": {},
   "outputs": [
    {
     "data": {
      "text/plain": [
       "123.88059701492537"
      ]
     },
     "execution_count": 72,
     "metadata": {},
     "output_type": "execute_result"
    }
   ],
   "source": [
    "greycvr = (grey_df.conversions.sum() / grey_df.clicks.sum()) * 100\n",
    "greycvr #123.88%"
   ]
  },
  {
   "cell_type": "code",
   "execution_count": 73,
   "id": "73b5f73f",
   "metadata": {},
   "outputs": [
    {
     "data": {
      "text/plain": [
       "70.96774193548387"
      ]
     },
     "execution_count": 73,
     "metadata": {},
     "output_type": "execute_result"
    }
   ],
   "source": [
    "greynewcvr = (greynew_df.conversions.sum() / greynew_df.clicks.sum()) * 100\n",
    "greynewcvr #70.97%"
   ]
  },
  {
   "cell_type": "code",
   "execution_count": 74,
   "id": "6d325be9",
   "metadata": {},
   "outputs": [
    {
     "data": {
      "text/html": [
       "<div>\n",
       "<style scoped>\n",
       "    .dataframe tbody tr th:only-of-type {\n",
       "        vertical-align: middle;\n",
       "    }\n",
       "\n",
       "    .dataframe tbody tr th {\n",
       "        vertical-align: top;\n",
       "    }\n",
       "\n",
       "    .dataframe thead th {\n",
       "        text-align: right;\n",
       "    }\n",
       "</style>\n",
       "<table border=\"1\" class=\"dataframe\">\n",
       "  <thead>\n",
       "    <tr style=\"text-align: right;\">\n",
       "      <th></th>\n",
       "      <th>campaign_name</th>\n",
       "      <th>creative_name</th>\n",
       "      <th>month</th>\n",
       "      <th>spend</th>\n",
       "      <th>impressions</th>\n",
       "      <th>clicks</th>\n",
       "      <th>conversions</th>\n",
       "    </tr>\n",
       "  </thead>\n",
       "  <tbody>\n",
       "    <tr>\n",
       "      <th>1038</th>\n",
       "      <td>sc_BBY_Portland_branding</td>\n",
       "      <td>grey</td>\n",
       "      <td>5</td>\n",
       "      <td>884.786993</td>\n",
       "      <td>232621.000000</td>\n",
       "      <td>178</td>\n",
       "      <td>105</td>\n",
       "    </tr>\n",
       "    <tr>\n",
       "      <th>36669</th>\n",
       "      <td>sc-VISA-Nashville-conversions</td>\n",
       "      <td>grey</td>\n",
       "      <td>11</td>\n",
       "      <td>225.890248</td>\n",
       "      <td>50997.000000</td>\n",
       "      <td>45</td>\n",
       "      <td>164</td>\n",
       "    </tr>\n",
       "    <tr>\n",
       "      <th>107927</th>\n",
       "      <td>sc-GAP-pivot-fanacquisition</td>\n",
       "      <td>grey</td>\n",
       "      <td>6</td>\n",
       "      <td>727.752460</td>\n",
       "      <td>150973.043478</td>\n",
       "      <td>144</td>\n",
       "      <td>94</td>\n",
       "    </tr>\n",
       "    <tr>\n",
       "      <th>112617</th>\n",
       "      <td>sc-GAP-Austin-fanacquisition</td>\n",
       "      <td>grey</td>\n",
       "      <td>9</td>\n",
       "      <td>593.525295</td>\n",
       "      <td>103288.695652</td>\n",
       "      <td>118</td>\n",
       "      <td>80</td>\n",
       "    </tr>\n",
       "    <tr>\n",
       "      <th>131962</th>\n",
       "      <td>sc-GAP-Nashville-fanacquisition</td>\n",
       "      <td>grey</td>\n",
       "      <td>10</td>\n",
       "      <td>125.512493</td>\n",
       "      <td>23662.000000</td>\n",
       "      <td>24</td>\n",
       "      <td>26</td>\n",
       "    </tr>\n",
       "    <tr>\n",
       "      <th>159673</th>\n",
       "      <td>sc-VISA-Austin-conversions</td>\n",
       "      <td>grey</td>\n",
       "      <td>9</td>\n",
       "      <td>480.687309</td>\n",
       "      <td>112390.434783</td>\n",
       "      <td>94</td>\n",
       "      <td>278</td>\n",
       "    </tr>\n",
       "  </tbody>\n",
       "</table>\n",
       "</div>"
      ],
      "text/plain": [
       "                          campaign_name creative_name  month       spend  \\\n",
       "1038           sc_BBY_Portland_branding          grey      5  884.786993   \n",
       "36669     sc-VISA-Nashville-conversions          grey     11  225.890248   \n",
       "107927      sc-GAP-pivot-fanacquisition          grey      6  727.752460   \n",
       "112617     sc-GAP-Austin-fanacquisition          grey      9  593.525295   \n",
       "131962  sc-GAP-Nashville-fanacquisition          grey     10  125.512493   \n",
       "159673       sc-VISA-Austin-conversions          grey      9  480.687309   \n",
       "\n",
       "          impressions  clicks  conversions  \n",
       "1038    232621.000000     178          105  \n",
       "36669    50997.000000      45          164  \n",
       "107927  150973.043478     144           94  \n",
       "112617  103288.695652     118           80  \n",
       "131962   23662.000000      24           26  \n",
       "159673  112390.434783      94          278  "
      ]
     },
     "execution_count": 74,
     "metadata": {},
     "output_type": "execute_result"
    }
   ],
   "source": [
    "grey_df"
   ]
  },
  {
   "cell_type": "code",
   "execution_count": 89,
   "id": "619ee478",
   "metadata": {},
   "outputs": [
    {
     "data": {
      "text/html": [
       "<div>\n",
       "<style scoped>\n",
       "    .dataframe tbody tr th:only-of-type {\n",
       "        vertical-align: middle;\n",
       "    }\n",
       "\n",
       "    .dataframe tbody tr th {\n",
       "        vertical-align: top;\n",
       "    }\n",
       "\n",
       "    .dataframe thead th {\n",
       "        text-align: right;\n",
       "    }\n",
       "</style>\n",
       "<table border=\"1\" class=\"dataframe\">\n",
       "  <thead>\n",
       "    <tr style=\"text-align: right;\">\n",
       "      <th></th>\n",
       "      <th>campaign_name</th>\n",
       "      <th>creative_name</th>\n",
       "      <th>month</th>\n",
       "      <th>spend</th>\n",
       "      <th>impressions</th>\n",
       "      <th>clicks</th>\n",
       "      <th>conversions</th>\n",
       "    </tr>\n",
       "  </thead>\n",
       "  <tbody>\n",
       "    <tr>\n",
       "      <th>52716</th>\n",
       "      <td>sc-GAP-You-fanacquisition</td>\n",
       "      <td>orange</td>\n",
       "      <td>1</td>\n",
       "      <td>402.929409</td>\n",
       "      <td>95022.000000</td>\n",
       "      <td>78</td>\n",
       "      <td>25</td>\n",
       "    </tr>\n",
       "    <tr>\n",
       "      <th>158749</th>\n",
       "      <td>sc-GAP-You-fanacquisition</td>\n",
       "      <td>white</td>\n",
       "      <td>1</td>\n",
       "      <td>195.122686</td>\n",
       "      <td>50949.000000</td>\n",
       "      <td>39</td>\n",
       "      <td>11</td>\n",
       "    </tr>\n",
       "    <tr>\n",
       "      <th>13414</th>\n",
       "      <td>sc-BBY-NOLA-branding</td>\n",
       "      <td>white</td>\n",
       "      <td>1</td>\n",
       "      <td>66.643481</td>\n",
       "      <td>14750.000000</td>\n",
       "      <td>14</td>\n",
       "      <td>2</td>\n",
       "    </tr>\n",
       "    <tr>\n",
       "      <th>123161</th>\n",
       "      <td>sc-VISA-.-conversions</td>\n",
       "      <td>white</td>\n",
       "      <td>1</td>\n",
       "      <td>515.272405</td>\n",
       "      <td>115303.000000</td>\n",
       "      <td>102</td>\n",
       "      <td>73</td>\n",
       "    </tr>\n",
       "    <tr>\n",
       "      <th>123157</th>\n",
       "      <td>sc-BBY-.-branding</td>\n",
       "      <td>orange</td>\n",
       "      <td>1</td>\n",
       "      <td>91.848595</td>\n",
       "      <td>21676.000000</td>\n",
       "      <td>17</td>\n",
       "      <td>11</td>\n",
       "    </tr>\n",
       "    <tr>\n",
       "      <th>...</th>\n",
       "      <td>...</td>\n",
       "      <td>...</td>\n",
       "      <td>...</td>\n",
       "      <td>...</td>\n",
       "      <td>...</td>\n",
       "      <td>...</td>\n",
       "      <td>...</td>\n",
       "    </tr>\n",
       "    <tr>\n",
       "      <th>83325</th>\n",
       "      <td>sc-VISA-SF-conversions</td>\n",
       "      <td>white</td>\n",
       "      <td>12</td>\n",
       "      <td>360.887231</td>\n",
       "      <td>70349.565217</td>\n",
       "      <td>73</td>\n",
       "      <td>58</td>\n",
       "    </tr>\n",
       "    <tr>\n",
       "      <th>83340</th>\n",
       "      <td>sc-VISA-SF-conversions</td>\n",
       "      <td>orange</td>\n",
       "      <td>12</td>\n",
       "      <td>183.947427</td>\n",
       "      <td>41244.347826</td>\n",
       "      <td>37</td>\n",
       "      <td>69</td>\n",
       "    </tr>\n",
       "    <tr>\n",
       "      <th>83344</th>\n",
       "      <td>sc_BBY_._branding</td>\n",
       "      <td>White</td>\n",
       "      <td>12</td>\n",
       "      <td>326.805698</td>\n",
       "      <td>71334.782609</td>\n",
       "      <td>65</td>\n",
       "      <td>7</td>\n",
       "    </tr>\n",
       "    <tr>\n",
       "      <th>83166</th>\n",
       "      <td>sc-BBY-.-branding</td>\n",
       "      <td>white**new</td>\n",
       "      <td>12</td>\n",
       "      <td>46.337677</td>\n",
       "      <td>6000.000000</td>\n",
       "      <td>9</td>\n",
       "      <td>0</td>\n",
       "    </tr>\n",
       "    <tr>\n",
       "      <th>174225</th>\n",
       "      <td>sc-VISA-SF-conversions</td>\n",
       "      <td>orange</td>\n",
       "      <td>12</td>\n",
       "      <td>312.639578</td>\n",
       "      <td>58694.782609</td>\n",
       "      <td>61</td>\n",
       "      <td>94</td>\n",
       "    </tr>\n",
       "  </tbody>\n",
       "</table>\n",
       "<p>174226 rows × 7 columns</p>\n",
       "</div>"
      ],
      "text/plain": [
       "                    campaign_name creative_name  month       spend  \\\n",
       "52716   sc-GAP-You-fanacquisition        orange      1  402.929409   \n",
       "158749  sc-GAP-You-fanacquisition         white      1  195.122686   \n",
       "13414        sc-BBY-NOLA-branding         white      1   66.643481   \n",
       "123161      sc-VISA-.-conversions         white      1  515.272405   \n",
       "123157          sc-BBY-.-branding        orange      1   91.848595   \n",
       "...                           ...           ...    ...         ...   \n",
       "83325      sc-VISA-SF-conversions         white     12  360.887231   \n",
       "83340      sc-VISA-SF-conversions        orange     12  183.947427   \n",
       "83344           sc_BBY_._branding         White     12  326.805698   \n",
       "83166           sc-BBY-.-branding    white**new     12   46.337677   \n",
       "174225     sc-VISA-SF-conversions        orange     12  312.639578   \n",
       "\n",
       "          impressions  clicks  conversions  \n",
       "52716    95022.000000      78           25  \n",
       "158749   50949.000000      39           11  \n",
       "13414    14750.000000      14            2  \n",
       "123161  115303.000000     102           73  \n",
       "123157   21676.000000      17           11  \n",
       "...               ...     ...          ...  \n",
       "83325    70349.565217      73           58  \n",
       "83340    41244.347826      37           69  \n",
       "83344    71334.782609      65            7  \n",
       "83166     6000.000000       9            0  \n",
       "174225   58694.782609      61           94  \n",
       "\n",
       "[174226 rows x 7 columns]"
      ]
     },
     "execution_count": 89,
     "metadata": {},
     "output_type": "execute_result"
    }
   ],
   "source": [
    "#Are there any time period trends? If so within which metrics and what dimension are they sensitive to?\n",
    "#Analyzing months for question 5\n",
    "sortedbymonth_df = code3interview_df.sort_values(by='month', ascending=True)\n",
    "sortedbymonth_df"
   ]
  },
  {
   "cell_type": "code",
   "execution_count": 91,
   "id": "61f6b29f",
   "metadata": {},
   "outputs": [],
   "source": [
    "month1_df = code3interview_df[code3interview_df.month == 1]\n",
    "month2_df = code3interview_df[code3interview_df.month == 2]\n",
    "month3_df = code3interview_df[code3interview_df.month == 3]\n",
    "month4_df = code3interview_df[code3interview_df.month == 4]\n",
    "month5_df = code3interview_df[code3interview_df.month == 5]\n",
    "month6_df = code3interview_df[code3interview_df.month == 6]\n",
    "month7_df = code3interview_df[code3interview_df.month == 7]\n",
    "month8_df = code3interview_df[code3interview_df.month == 8]\n",
    "month9_df = code3interview_df[code3interview_df.month == 9]\n",
    "month10_df = code3interview_df[code3interview_df.month == 10]\n",
    "month11_df = code3interview_df[code3interview_df.month == 11]\n",
    "month12_df = code3interview_df[code3interview_df.month == 12]"
   ]
  },
  {
   "cell_type": "code",
   "execution_count": 90,
   "id": "28dd3ac7",
   "metadata": {},
   "outputs": [],
   "source": [
    "#just wanted to read the file in excel when sorted by ascending order of months\n",
    "#sortedbymonth_df.to_csv('sortedbymonth.csv', index=None)"
   ]
  },
  {
   "cell_type": "code",
   "execution_count": 94,
   "id": "66b735e3",
   "metadata": {},
   "outputs": [
    {
     "data": {
      "text/plain": [
       "month               1.000000\n",
       "spend             469.060983\n",
       "impressions    108549.289189\n",
       "clicks             93.312547\n",
       "conversions        47.286502\n",
       "dtype: float64"
      ]
     },
     "execution_count": 94,
     "metadata": {},
     "output_type": "execute_result"
    }
   ],
   "source": [
    "month1_df.mean()"
   ]
  },
  {
   "cell_type": "code",
   "execution_count": 95,
   "id": "f0c821f9",
   "metadata": {},
   "outputs": [
    {
     "data": {
      "text/plain": [
       "month               2.000000\n",
       "spend             467.836200\n",
       "impressions    108542.491679\n",
       "clicks             93.069824\n",
       "conversions        47.491887\n",
       "dtype: float64"
      ]
     },
     "execution_count": 95,
     "metadata": {},
     "output_type": "execute_result"
    }
   ],
   "source": [
    "month2_df.mean()"
   ]
  },
  {
   "cell_type": "code",
   "execution_count": 96,
   "id": "c42afbf0",
   "metadata": {},
   "outputs": [
    {
     "data": {
      "text/plain": [
       "month              3.000000\n",
       "spend            466.805445\n",
       "impressions    94222.134689\n",
       "clicks            92.870715\n",
       "conversions       46.970298\n",
       "dtype: float64"
      ]
     },
     "execution_count": 96,
     "metadata": {},
     "output_type": "execute_result"
    }
   ],
   "source": [
    "month3_df.mean() #lower than others"
   ]
  },
  {
   "cell_type": "code",
   "execution_count": 97,
   "id": "74df3e7e",
   "metadata": {},
   "outputs": [
    {
     "data": {
      "text/plain": [
       "month               4.000000\n",
       "spend             469.547075\n",
       "impressions    108939.587471\n",
       "clicks             93.406237\n",
       "conversions        47.875598\n",
       "dtype: float64"
      ]
     },
     "execution_count": 97,
     "metadata": {},
     "output_type": "execute_result"
    }
   ],
   "source": [
    "month4_df.mean()"
   ]
  },
  {
   "cell_type": "code",
   "execution_count": 98,
   "id": "b497fc47",
   "metadata": {},
   "outputs": [
    {
     "data": {
      "text/plain": [
       "month               5.000000\n",
       "spend             467.812206\n",
       "impressions    108606.850335\n",
       "clicks             93.071305\n",
       "conversions        47.442147\n",
       "dtype: float64"
      ]
     },
     "execution_count": 98,
     "metadata": {},
     "output_type": "execute_result"
    }
   ],
   "source": [
    "month5_df.mean()"
   ]
  },
  {
   "cell_type": "code",
   "execution_count": 99,
   "id": "aa3af2aa",
   "metadata": {},
   "outputs": [
    {
     "data": {
      "text/plain": [
       "month              6.000000\n",
       "spend            465.584039\n",
       "impressions    93884.002821\n",
       "clicks            92.612767\n",
       "conversions       46.527881\n",
       "dtype: float64"
      ]
     },
     "execution_count": 99,
     "metadata": {},
     "output_type": "execute_result"
    }
   ],
   "source": [
    "month6_df.mean() #lower than others"
   ]
  },
  {
   "cell_type": "code",
   "execution_count": 100,
   "id": "7bbfb7d2",
   "metadata": {},
   "outputs": [
    {
     "data": {
      "text/plain": [
       "month               7.000000\n",
       "spend             469.797113\n",
       "impressions    108980.882430\n",
       "clicks             93.467043\n",
       "conversions        47.347613\n",
       "dtype: float64"
      ]
     },
     "execution_count": 100,
     "metadata": {},
     "output_type": "execute_result"
    }
   ],
   "source": [
    "month7_df.mean()"
   ]
  },
  {
   "cell_type": "code",
   "execution_count": 101,
   "id": "3a0cc67e",
   "metadata": {},
   "outputs": [
    {
     "data": {
      "text/plain": [
       "month               8.000000\n",
       "spend             468.598791\n",
       "impressions    108512.451733\n",
       "clicks             93.225109\n",
       "conversions        47.583890\n",
       "dtype: float64"
      ]
     },
     "execution_count": 101,
     "metadata": {},
     "output_type": "execute_result"
    }
   ],
   "source": [
    "month8_df.mean()"
   ]
  },
  {
   "cell_type": "code",
   "execution_count": 102,
   "id": "55187bcc",
   "metadata": {},
   "outputs": [
    {
     "data": {
      "text/plain": [
       "month              9.000000\n",
       "spend            465.974450\n",
       "impressions    93971.470767\n",
       "clicks            92.704091\n",
       "conversions       47.204091\n",
       "dtype: float64"
      ]
     },
     "execution_count": 102,
     "metadata": {},
     "output_type": "execute_result"
    }
   ],
   "source": [
    "month9_df.mean() #lower than others"
   ]
  },
  {
   "cell_type": "code",
   "execution_count": 103,
   "id": "4db481c2",
   "metadata": {},
   "outputs": [
    {
     "data": {
      "text/plain": [
       "month              10.000000\n",
       "spend             466.353718\n",
       "impressions    108253.905547\n",
       "clicks             92.748703\n",
       "conversions        47.458244\n",
       "dtype: float64"
      ]
     },
     "execution_count": 103,
     "metadata": {},
     "output_type": "execute_result"
    }
   ],
   "source": [
    "month10_df.mean()"
   ]
  },
  {
   "cell_type": "code",
   "execution_count": 104,
   "id": "e733108c",
   "metadata": {},
   "outputs": [
    {
     "data": {
      "text/plain": [
       "month              11.000000\n",
       "spend             469.856595\n",
       "impressions    108890.763231\n",
       "clicks             93.483998\n",
       "conversions        47.468412\n",
       "dtype: float64"
      ]
     },
     "execution_count": 104,
     "metadata": {},
     "output_type": "execute_result"
    }
   ],
   "source": [
    "month11_df.mean()"
   ]
  },
  {
   "cell_type": "code",
   "execution_count": 93,
   "id": "d5612164",
   "metadata": {},
   "outputs": [
    {
     "data": {
      "text/plain": [
       "month             12.000000\n",
       "spend            466.392975\n",
       "impressions    94038.672098\n",
       "clicks            92.768109\n",
       "conversions       47.321363\n",
       "dtype: float64"
      ]
     },
     "execution_count": 93,
     "metadata": {},
     "output_type": "execute_result"
    }
   ],
   "source": [
    "month12_df.mean() #lower than others"
   ]
  },
  {
   "cell_type": "code",
   "execution_count": 86,
   "id": "ddf68554",
   "metadata": {},
   "outputs": [
    {
     "data": {
      "text/plain": [
       "white          4855\n",
       "orange         4702\n",
       "White          1371\n",
       "Orange         1320\n",
       "orange**new     756\n",
       "white**new      737\n",
       "black           250\n",
       "teal            242\n",
       "Black            63\n",
       "Teal             54\n",
       "teal**new        37\n",
       "black**new       35\n",
       "Name: creative_name, dtype: int64"
      ]
     },
     "execution_count": 86,
     "metadata": {},
     "output_type": "execute_result"
    }
   ],
   "source": [
    "#How many creative colors were run in February?\n",
    "month2_df['creative_name'].value_counts()"
   ]
  },
  {
   "cell_type": "code",
   "execution_count": null,
   "id": "97d3474e",
   "metadata": {},
   "outputs": [],
   "source": [
    "#If this client asked you what CPA you'd project for next month what would be the most important questions\n",
    "#you want to ask prior to providing a response?"
   ]
  }
 ],
 "metadata": {
  "kernelspec": {
   "display_name": "Python 3",
   "language": "python",
   "name": "python3"
  },
  "language_info": {
   "codemirror_mode": {
    "name": "ipython",
    "version": 3
   },
   "file_extension": ".py",
   "mimetype": "text/x-python",
   "name": "python",
   "nbconvert_exporter": "python",
   "pygments_lexer": "ipython3",
   "version": "3.8.8"
  }
 },
 "nbformat": 4,
 "nbformat_minor": 5
}
