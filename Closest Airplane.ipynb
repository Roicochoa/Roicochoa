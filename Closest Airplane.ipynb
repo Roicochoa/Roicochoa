{
 "cells": [
  {
   "cell_type": "code",
   "execution_count": 5,
   "metadata": {
    "collapsed": true
   },
   "outputs": [],
   "source": [
    "import urllib.request, json\n",
    "from math import acos, sin, cos, radians\n",
    "with urllib.request.urlopen(\"https://opensky-network.org/api/states/all\") as url:\n",
    "    data = json.loads(url.read().decode())['states']"
   ]
  },
  {
   "cell_type": "code",
   "execution_count": 6,
   "metadata": {
    "collapsed": true
   },
   "outputs": [],
   "source": [
    "EARTH_RAD = 6371\n",
    "def geo_dist(x, y):\n",
    "    xrad = [radians(d) for d in x]\n",
    "    yrad = [radians(d) for d in y]\n",
    "    return EARTH_RAD*acos(sin(xrad[0])*sin(yrad[0])+\n",
    "                          cos(xrad[0])*cos(yrad[0])*\n",
    "                          cos(abs(xrad[1]-yrad[1])))\n",
    "\n",
    "def get_closest(longitude,lattitude):\n",
    "    closest = data[0],10000000\n",
    "    for plane in data:\n",
    "        if None in plane[5:7]: continue\n",
    "        dist = geo_dist(plane[5:7],[longitude,lattitude])\n",
    "        if dist<closest[1]:\n",
    "            closest = plane, dist\n",
    "    print(\"closest plane to \",longitude,\"E \",lattitude,\"N\")\n",
    "    print(\"Geodesic distance:\", closest[1])\n",
    "    print(\"Callsign:\", closest[0][1])\n",
    "    print(\"Longitude and Lattitude:\", closest[0][5],\"E\", closest[0][6],\"N\")\n",
    "    print(\"Geometric Altitude:\", closest[0][7])\n",
    "    print(\"Country of origin:\", closest[0][2])\n",
    "    print(\"ICAO24 ID:\", closest[0][0])"
   ]
  },
  {
   "cell_type": "code",
   "execution_count": 7,
   "metadata": {},
   "outputs": [
    {
     "name": "stdout",
     "output_type": "stream",
     "text": [
      "EIFEL TOWER\n",
      "------------\n",
      "closest plane to  2.2945 E  48.8584 N\n",
      "Geodesic distance: 49.14834755611605\n",
      "Callsign: FPO701  \n",
      "Longitude and Lattitude: 2.7124 E 49.0025 N\n",
      "Geometric Altitude: 807.72\n",
      "Country of origin: France\n",
      "ICAO24 ID: 396669\n",
      "\n",
      "JOHN F KENNEDY AIRPORT\n",
      "----------------------\n",
      "closest plane to  -73.7781 E  40.6413 N\n",
      "Geodesic distance: 0.6372715647375792\n",
      "Callsign: SWA1505 \n",
      "Longitude and Lattitude: -73.7771 E 40.6615 N\n",
      "Geometric Altitude: 10355.58\n",
      "Country of origin: United States\n",
      "ICAO24 ID: abb222\n"
     ]
    }
   ],
   "source": [
    "print(\"EIFEL TOWER\\n------------\")\n",
    "get_closest(2.2945,48.8584)\n",
    "print(\"\\nJOHN F KENNEDY AIRPORT\\n----------------------\")\n",
    "get_closest(-73.7781,40.6413)"
   ]
  },
  {
   "cell_type": "code",
   "execution_count": null,
   "metadata": {
    "collapsed": true
   },
   "outputs": [],
   "source": []
  }
 ],
 "metadata": {
  "kernelspec": {
   "display_name": "Python 3",
   "language": "python",
   "name": "python3"
  },
  "language_info": {
   "codemirror_mode": {
    "name": "ipython",
    "version": 3
   },
   "file_extension": ".py",
   "mimetype": "text/x-python",
   "name": "python",
   "nbconvert_exporter": "python",
   "pygments_lexer": "ipython3",
   "version": "3.6.3"
  }
 },
 "nbformat": 4,
 "nbformat_minor": 2
}
